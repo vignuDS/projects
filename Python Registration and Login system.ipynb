{
 "cells": [
  {
   "cell_type": "code",
   "execution_count": 1,
   "id": "00c5c29b",
   "metadata": {},
   "outputs": [],
   "source": [
    "import re\n",
    "import os\n",
    "import json"
   ]
  },
  {
   "cell_type": "markdown",
   "id": "0f9f5284",
   "metadata": {},
   "source": [
    "Function to validate email/username"
   ]
  },
  {
   "cell_type": "code",
   "execution_count": 2,
   "id": "c0d49f43",
   "metadata": {},
   "outputs": [],
   "source": [
    "def is_valid_email(email):\n",
    "    if re.match(r'^\\w+@[a-zA-Z_]+?\\.[a-zA-Z]{2,3}$', email):\n",
    "        return True\n",
    "    return False"
   ]
  },
  {
   "cell_type": "markdown",
   "id": "780ffa43",
   "metadata": {},
   "source": [
    "Function to validate password"
   ]
  },
  {
   "cell_type": "code",
   "execution_count": 3,
   "id": "0cf94224",
   "metadata": {},
   "outputs": [],
   "source": [
    "def is_valid_password(password):\n",
    "    if len(password) < 5 or len(password) > 16:\n",
    "        return False\n",
    "    if not re.search(r'[a-z]', password):\n",
    "        return False\n",
    "    if not re.search(r'[A-Z]', password):\n",
    "        return False\n",
    "    if not re.search(r'[0-9]', password):\n",
    "        return False\n",
    "    if not re.search(r'[!@#$%^&*()_+-=\\[\\]{};:\\'\",.<>\\/?\\\\|`~]', password):\n",
    "        return False\n",
    "    return True"
   ]
  },
  {
   "cell_type": "markdown",
   "id": "1a6b8340",
   "metadata": {},
   "source": [
    "Storing Data in a File"
   ]
  },
  {
   "cell_type": "code",
   "execution_count": 4,
   "id": "7c321138",
   "metadata": {},
   "outputs": [],
   "source": [
    "def read_user_data():\n",
    "    try:\n",
    "        with open('users.json', 'r') as f:\n",
    "            users = json.load(f)\n",
    "    except FileNotFoundError:\n",
    "        users = {}\n",
    "    return users\n",
    "\n",
    "\n",
    "def write_user_data(users):\n",
    "    with open('users.json', 'w') as f:\n",
    "        json.dump(users, f)"
   ]
  },
  {
   "cell_type": "markdown",
   "id": "abd02c9d",
   "metadata": {},
   "source": [
    "Function to register a user"
   ]
  },
  {
   "cell_type": "code",
   "execution_count": 5,
   "id": "a60817f2",
   "metadata": {},
   "outputs": [],
   "source": [
    "def register():\n",
    "    users = read_user_data()\n",
    "    email = input(\"Enter your email: \")\n",
    "    username = input(\"Enter your username: \")\n",
    "    password = input(\"Enter your password: \")\n",
    "    confirm_password = input(\"Confirm your password: \")\n",
    "    \n",
    "    if email in users:\n",
    "        print(\"This email is already registered. Please try again.\")\n",
    "    elif username in users:\n",
    "        print(\"This username is already taken. Please try again.\")\n",
    "    elif password != confirm_password:\n",
    "        print(\"Passwords do not match. Please try again.\")\n",
    "    else:\n",
    "        users[email] = {\"username\": username, \"password\": password}\n",
    "        write_user_data(users)\n",
    "        print(\"Registration successful!\")"
   ]
  },
  {
   "cell_type": "markdown",
   "id": "15b981b4",
   "metadata": {},
   "source": [
    "Function to login a user"
   ]
  },
  {
   "cell_type": "code",
   "execution_count": 6,
   "id": "796d621c",
   "metadata": {},
   "outputs": [],
   "source": [
    "def login(users):\n",
    "    email_or_username = input(\"Enter your email/username: \")\n",
    "    password = input(\"Enter your password: \")\n",
    "\n",
    "    if email_or_username in users:\n",
    "        if users[email_or_username][\"password\"] == password:\n",
    "            print(\"Login successful!\")\n",
    "            return True\n",
    "        else:\n",
    "            print(\"Incorrect password. Please try again.\")\n",
    "    else:\n",
    "        for user in users.values():\n",
    "            if user[\"username\"] == email_or_username:\n",
    "                if user[\"password\"] == password:\n",
    "                    print(\"Login successful!\")\n",
    "                    return True\n",
    "                else:\n",
    "                    print(\"Incorrect password. Please try again.\")\n",
    "                    return False\n",
    "        print(\"User not found. Please register.\")"
   ]
  },
  {
   "cell_type": "markdown",
   "id": "9e0df8dc",
   "metadata": {},
   "source": [
    "Function to reset password"
   ]
  },
  {
   "cell_type": "code",
   "execution_count": 7,
   "id": "5ba0ccde",
   "metadata": {},
   "outputs": [],
   "source": [
    "def reset_password(users):\n",
    "    username = input(\"Enter your username: \")\n",
    "    email = input(\"Enter your email: \")\n",
    "\n",
    "    if email in users and users[email][\"username\"] == username:\n",
    "        new_password = input(\"Enter a new password: \")\n",
    "        confirm_password = input(\"Confirm your new password: \")\n",
    "\n",
    "        if new_password != confirm_password:\n",
    "            print(\"Passwords do not match. Please try again.\")\n",
    "        else:\n",
    "            users[email][\"password\"] = new_password\n",
    "            write_user_data(users)\n",
    "            print(\"Password reset successful!\")\n",
    "    else:\n",
    "        print(\"Invalid username or email.\")"
   ]
  },
  {
   "cell_type": "markdown",
   "id": "cd2efb79",
   "metadata": {},
   "source": [
    "Main function"
   ]
  },
  {
   "cell_type": "code",
   "execution_count": 8,
   "id": "0d246aaa",
   "metadata": {},
   "outputs": [],
   "source": [
    "def main():\n",
    "    while True:\n",
    "        print(\"1. Register\")\n",
    "        print(\"2. Login\")\n",
    "        print(\"3. Reset password\")\n",
    "        print(\"4. Exit\")\n",
    "\n",
    "        choice = input(\"Enter your choice: \")\n",
    "\n",
    "        if choice == \"1\":\n",
    "            register()\n",
    "        elif choice == \"2\":\n",
    "            users = read_user_data()\n",
    "            login_successful = login(users)\n",
    "            if not login_successful:\n",
    "                change_password = input(\"Do you want to change password? (y/n): \")\n",
    "                if change_password.lower() == \"y\":\n",
    "                    reset_password(users)\n",
    "        elif choice == \"3\":\n",
    "            users = read_user_data()\n",
    "            reset_password(users)\n",
    "        elif choice == \"4\":\n",
    "            break\n",
    "        else:\n",
    "            print(\"Invalid choice! Please try again.\")"
   ]
  },
  {
   "cell_type": "markdown",
   "id": "01e67bb2",
   "metadata": {},
   "source": [
    "Driver code"
   ]
  },
  {
   "cell_type": "code",
   "execution_count": 9,
   "id": "6b808291",
   "metadata": {},
   "outputs": [
    {
     "name": "stdout",
     "output_type": "stream",
     "text": [
      "1. Register\n",
      "2. Login\n",
      "3. Reset password\n",
      "4. Exit\n",
      "Enter your choice: 2\n",
      "Enter your email/username: vicky@gmail.com\n",
      "Enter your password: Moshikaa@100\n",
      "Login successful!\n",
      "1. Register\n",
      "2. Login\n",
      "3. Reset password\n",
      "4. Exit\n",
      "Enter your choice: 2\n",
      "Enter your email/username: vicky@gmail.com\n",
      "Enter your password: Moshikaa@100\n",
      "Login successful!\n",
      "1. Register\n",
      "2. Login\n",
      "3. Reset password\n",
      "4. Exit\n",
      "Enter your choice: 3\n",
      "Enter your username: vicky@gmail.com\n",
      "Enter your email: vicky@gmail.com\n",
      "Invalid username or email.\n",
      "1. Register\n",
      "2. Login\n",
      "3. Reset password\n",
      "4. Exit\n",
      "Enter your choice: 3\n",
      "Enter your username: Moshikaa@100\n",
      "Enter your email: vicky@gmail.com\n",
      "Enter a new password: Vicky@100\n",
      "Confirm your new password: Vicky@100\n",
      "Password reset successful!\n",
      "1. Register\n",
      "2. Login\n",
      "3. Reset password\n",
      "4. Exit\n",
      "Enter your choice: 4\n"
     ]
    }
   ],
   "source": [
    "if __name__ == \"__main__\":\n",
    "    main()"
   ]
  }
 ],
 "metadata": {
  "kernelspec": {
   "display_name": "Python 3 (ipykernel)",
   "language": "python",
   "name": "python3"
  },
  "language_info": {
   "codemirror_mode": {
    "name": "ipython",
    "version": 3
   },
   "file_extension": ".py",
   "mimetype": "text/x-python",
   "name": "python",
   "nbconvert_exporter": "python",
   "pygments_lexer": "ipython3",
   "version": "3.10.5"
  }
 },
 "nbformat": 4,
 "nbformat_minor": 5
}
