{
 "cells": [
  {
   "cell_type": "markdown",
   "id": "2209279f",
   "metadata": {},
   "source": [
    "1.Create a vector 1, 2, . . . , 10 by adding 1 to the result of the arange function:"
   ]
  },
  {
   "cell_type": "code",
   "execution_count": 1,
   "id": "721c198f",
   "metadata": {},
   "outputs": [
    {
     "name": "stdout",
     "output_type": "stream",
     "text": [
      "[ 2  3  4  5  6  7  8  9 10 11]\n"
     ]
    }
   ],
   "source": [
    "import numpy as np\n",
    "\n",
    "vector = np.arange(1, 11) + 1\n",
    "print(vector)"
   ]
  },
  {
   "cell_type": "markdown",
   "id": "5115f634",
   "metadata": {},
   "source": [
    "2.Create a 10 × 10 matrix A in which A[i][j] = i + j:"
   ]
  },
  {
   "cell_type": "code",
   "execution_count": 2,
   "id": "83dad6fe",
   "metadata": {},
   "outputs": [
    {
     "name": "stdout",
     "output_type": "stream",
     "text": [
      "[[ 4  5  6  7  8  9 10 11 12 13]\n",
      " [ 5  6  7  8  9 10 11 12 13 14]\n",
      " [ 6  7  8  9 10 11 12 13 14 15]\n",
      " [ 7  8  9 10 11 12 13 14 15 16]\n",
      " [ 8  9 10 11 12 13 14 15 16 17]\n",
      " [ 9 10 11 12 13 14 15 16 17 18]\n",
      " [10 11 12 13 14 15 16 17 18 19]\n",
      " [11 12 13 14 15 16 17 18 19 20]\n",
      " [12 13 14 15 16 17 18 19 20 21]\n",
      " [13 14 15 16 17 18 19 20 21 22]]\n"
     ]
    }
   ],
   "source": [
    "matrix = vector.reshape(-1, 1) + vector.reshape(1, -1)\n",
    "print(matrix)"
   ]
  },
  {
   "cell_type": "markdown",
   "id": "93e60b35",
   "metadata": {},
   "source": [
    "3.Create a fake \"data set\" with 50 examples, each with five dimensions:"
   ]
  },
  {
   "cell_type": "code",
   "execution_count": 3,
   "id": "23d229b8",
   "metadata": {},
   "outputs": [],
   "source": [
    "import numpy.random as npr\n",
    "\n",
    "data = np.exp(npr.randn(50, 5))"
   ]
  },
  {
   "cell_type": "markdown",
   "id": "8f2aedb4",
   "metadata": {},
   "source": [
    "4.Compute the mean and standard deviation of each column:"
   ]
  },
  {
   "cell_type": "code",
   "execution_count": 4,
   "id": "4793cc75",
   "metadata": {},
   "outputs": [
    {
     "name": "stdout",
     "output_type": "stream",
     "text": [
      "Mean of each column: [1.37707762 1.55847151 1.20336563 1.36847131 2.02237667]\n",
      "Standard deviation of each column: [1.20870086 1.76399895 0.79298168 1.47419383 2.21954787]\n"
     ]
    }
   ],
   "source": [
    "mean = np.mean(data, axis=0)\n",
    "std = np.std(data, axis=0)\n",
    "\n",
    "print(\"Mean of each column:\", mean)\n",
    "print(\"Standard deviation of each column:\", std)"
   ]
  },
  {
   "cell_type": "markdown",
   "id": "cd31d69c",
   "metadata": {},
   "source": [
    "5.Standardize the data matrix by subtracting the mean off of each column and dividing each column by its standard deviation:"
   ]
  },
  {
   "cell_type": "code",
   "execution_count": 5,
   "id": "5d33acf1",
   "metadata": {},
   "outputs": [
    {
     "name": "stdout",
     "output_type": "stream",
     "text": [
      "Mean of each column of normalized matrix: [ 4.32986980e-17  2.03170814e-16 -6.75015599e-16 -3.78030940e-16\n",
      " -2.59792188e-16]\n",
      "Standard deviation of each column of normalized matrix: [1. 1. 1. 1. 1.]\n"
     ]
    }
   ],
   "source": [
    "normalized = (data - mean) / std\n",
    "normalized_mean = np.mean(normalized, axis=0)\n",
    "normalized_std = np.std(normalized, axis=0)\n",
    "\n",
    "print(\"Mean of each column of normalized matrix:\", normalized_mean)\n",
    "print(\"Standard deviation of each column of normalized matrix:\", normalized_std)"
   ]
  },
  {
   "cell_type": "code",
   "execution_count": null,
   "id": "8b0f975b",
   "metadata": {},
   "outputs": [],
   "source": []
  }
 ],
 "metadata": {
  "kernelspec": {
   "display_name": "Python 3 (ipykernel)",
   "language": "python",
   "name": "python3"
  },
  "language_info": {
   "codemirror_mode": {
    "name": "ipython",
    "version": 3
   },
   "file_extension": ".py",
   "mimetype": "text/x-python",
   "name": "python",
   "nbconvert_exporter": "python",
   "pygments_lexer": "ipython3",
   "version": "3.10.5"
  }
 },
 "nbformat": 4,
 "nbformat_minor": 5
}
